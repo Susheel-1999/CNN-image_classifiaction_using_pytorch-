{
  "nbformat": 4,
  "nbformat_minor": 0,
  "metadata": {
    "colab": {
      "name": "Image classification.ipynb",
      "provenance": [],
      "collapsed_sections": []
    },
    "kernelspec": {
      "name": "python3",
      "display_name": "Python 3"
    },
    "accelerator": "GPU"
  },
  "cells": [
    {
      "cell_type": "markdown",
      "metadata": {
        "id": "TIVK0_tc6CPa"
      },
      "source": [
        "**Downloading the Datasets (MNIST**)"
      ]
    },
    {
      "cell_type": "code",
      "metadata": {
        "colab": {
          "base_uri": "https://localhost:8080/"
        },
        "id": "Q2iqAUI06uWW",
        "outputId": "d5acd2ff-477f-4ea3-d2f0-ba65206500f5"
      },
      "source": [
        "#downloading the dataset from keras.datasets\r\n",
        "from keras.datasets import mnist\r\n",
        "((trainX, trainY), (testX, testY)) = mnist.load_data()"
      ],
      "execution_count": null,
      "outputs": [
        {
          "output_type": "stream",
          "text": [
            "Downloading data from https://storage.googleapis.com/tensorflow/tf-keras-datasets/mnist.npz\n",
            "11493376/11490434 [==============================] - 0s 0us/step\n"
          ],
          "name": "stdout"
        }
      ]
    },
    {
      "cell_type": "code",
      "metadata": {
        "colab": {
          "base_uri": "https://localhost:8080/"
        },
        "id": "VDHq62666xWm",
        "outputId": "d52abaa3-1f3f-44c1-e83c-84c72be16000"
      },
      "source": [
        "#train features \r\n",
        "print(\"Train X shape:\",trainX.shape)\r\n",
        "#train label\r\n",
        "print(\"Train Y shape:\",trainY.shape)\r\n",
        "#test features\r\n",
        "print(\"Test X shape:\",testX.shape)\r\n",
        "#test label\r\n",
        "print(\"Test Y shape:\",testY.shape)"
      ],
      "execution_count": null,
      "outputs": [
        {
          "output_type": "stream",
          "text": [
            "Train X shape: (60000, 28, 28)\n",
            "Train Y shape: (60000,)\n",
            "Test X shape: (10000, 28, 28)\n",
            "Test Y shape: (10000,)\n"
          ],
          "name": "stdout"
        }
      ]
    },
    {
      "cell_type": "code",
      "metadata": {
        "colab": {
          "base_uri": "https://localhost:8080/",
          "height": 218
        },
        "id": "TsXNanS56xZa",
        "outputId": "9cec5009-0b1a-40e3-aefb-7e0aeffeb9d2"
      },
      "source": [
        "#plotting few datapoints \r\n",
        "import matplotlib.pyplot as plt\r\n",
        "\r\n",
        "#training_datapoints\r\n",
        "plt.subplot(121)\r\n",
        "plt.imshow(trainX[1])\r\n",
        "\r\n",
        "#testing_datapoints\r\n",
        "plt.subplot(122)\r\n",
        "plt.imshow(testX[1])"
      ],
      "execution_count": null,
      "outputs": [
        {
          "output_type": "execute_result",
          "data": {
            "text/plain": [
              "<matplotlib.image.AxesImage at 0x7fefc5395b90>"
            ]
          },
          "metadata": {
            "tags": []
          },
          "execution_count": 3
        },
        {
          "output_type": "display_data",
          "data": {
            "image/png": "[encoded data removed]",
            "text/plain": [
              "<Figure size 432x288 with 2 Axes>"
            ]
          },
          "metadata": {
            "tags": [],
            "needs_background": "light"
          }
        }
      ]
    },
    {
      "cell_type": "markdown",
      "metadata": {
        "id": "EsJI1fUI6cuK"
      },
      "source": [
        "**Let's build the model!**"
      ]
    },
    {
      "cell_type": "code",
      "metadata": {
        "id": "yEXtyPP06xco"
      },
      "source": [
        "#required libraries\r\n",
        "import torch\r\n",
        "from torch.nn import *\r\n",
        "from torch.optim import Adam\r\n",
        "from torch.autograd import Variable\r\n",
        "import numpy as np"
      ],
      "execution_count": null,
      "outputs": []
    },
    {
      "cell_type": "code",
      "metadata": {
        "colab": {
          "base_uri": "https://localhost:8080/"
        },
        "id": "i2sbI3dLqK-I",
        "outputId": "9291d1fe-0ef9-4513-fd24-a720b73b086e"
      },
      "source": [
        "#reshaping the data into required format\r\n",
        "train_x=trainX.reshape(60000,1,28,28)\r\n",
        "\r\n",
        "#converting the numpy array into tensor\r\n",
        "train_x=torch.from_numpy(train_x)\r\n",
        "train_x.shape"
      ],
      "execution_count": null,
      "outputs": [
        {
          "output_type": "execute_result",
          "data": {
            "text/plain": [
              "torch.Size([60000, 1, 28, 28])"
            ]
          },
          "metadata": {
            "tags": []
          },
          "execution_count": 5
        }
      ]
    },
    {
      "cell_type": "code",
      "metadata": {
        "colab": {
          "base_uri": "https://localhost:8080/"
        },
        "id": "iLhcSxN9rC0D",
        "outputId": "af118b10-50df-4e87-d113-0e80ad67d588"
      },
      "source": [
        "#converting the lable into integer\r\n",
        "train_y=trainY.astype(int)\r\n",
        "\r\n",
        "#converting the numpy array into tensor\r\n",
        "train_y=torch.from_numpy(train_y)\r\n",
        "train_y.shape"
      ],
      "execution_count": null,
      "outputs": [
        {
          "output_type": "execute_result",
          "data": {
            "text/plain": [
              "torch.Size([60000])"
            ]
          },
          "metadata": {
            "tags": []
          },
          "execution_count": 6
        }
      ]
    },
    {
      "cell_type": "code",
      "metadata": {
        "id": "VsW8V4Z2rsBI"
      },
      "source": [
        "#inherited class\r\n",
        "class model_cnn(Module):   \r\n",
        "    def __init__(self):\r\n",
        "        super(model_cnn, self).__init__()\r\n",
        "\r\n",
        "        #cnn layer\r\n",
        "        self.cnn_layers = Sequential(\r\n",
        "            #layer 1 - convolution layer, pooling layer\r\n",
        "            \r\n",
        "            #input - 28,28,1 \r\n",
        "            Conv2d(1, 4, kernel_size=2, stride=1, padding=1),\r\n",
        "            #convolution - 29,29,4 \r\n",
        "            BatchNorm2d(4),\r\n",
        "            ReLU(inplace=True),\r\n",
        "            MaxPool2d(kernel_size=2, stride=2),\r\n",
        "            #pooling - 14,14,4\r\n",
        "            \r\n",
        "            #layer 2 - convolution layer, pooling layer\r\n",
        "    \r\n",
        "            #input - 14,14,2\r\n",
        "            Conv2d(4, 4, kernel_size=2, stride=1, padding=1),\r\n",
        "            #convolution - 15,15,4\r\n",
        "            BatchNorm2d(4),\r\n",
        "            ReLU(inplace=True),\r\n",
        "            MaxPool2d(kernel_size=2, stride=2)\r\n",
        "            #pooling - 7,7,4\r\n",
        "            \r\n",
        "        )\r\n",
        "        #fully connected layer\r\n",
        "        \r\n",
        "        #input - 4*7*7\r\n",
        "        self.linear_layers = Sequential(\r\n",
        "            Linear(4 * 7 * 7, 10)\r\n",
        "        #output - 10\r\n",
        "        \r\n",
        "        )\r\n",
        "\r\n",
        "    #forward pass    \r\n",
        "    def forward(self, x):\r\n",
        "        #layer 1 and layer 2\r\n",
        "        x = self.cnn_layers(x)\r\n",
        "        #converting the (7,7,4) into 4*7*7\r\n",
        "        x = x.view(x.size(0), -1)\r\n",
        "        #fully connected layer\r\n",
        "        x = self.linear_layers(x)\r\n",
        "        return x"
      ],
      "execution_count": null,
      "outputs": []
    },
    {
      "cell_type": "code",
      "metadata": {
        "id": "bCwWQGljrsEW"
      },
      "source": [
        "#object of class model_cnn\r\n",
        "model=model_cnn()"
      ],
      "execution_count": null,
      "outputs": []
    },
    {
      "cell_type": "code",
      "metadata": {
        "colab": {
          "base_uri": "https://localhost:8080/"
        },
        "id": "ZMNKoC51ttfH",
        "outputId": "1b03bae3-8e89-4774-aa73-c83a02f6cec7"
      },
      "source": [
        "model"
      ],
      "execution_count": null,
      "outputs": [
        {
          "output_type": "execute_result",
          "data": {
            "text/plain": [
              "model_cnn(\n",
              "  (cnn_layers): Sequential(\n",
              "    (0): Conv2d(1, 4, kernel_size=(2, 2), stride=(1, 1), padding=(1, 1))\n",
              "    (1): BatchNorm2d(4, eps=1e-05, momentum=0.1, affine=True, track_running_stats=True)\n",
              "    (2): ReLU(inplace=True)\n",
              "    (3): MaxPool2d(kernel_size=2, stride=2, padding=0, dilation=1, ceil_mode=False)\n",
              "    (4): Conv2d(4, 4, kernel_size=(2, 2), stride=(1, 1), padding=(1, 1))\n",
              "    (5): BatchNorm2d(4, eps=1e-05, momentum=0.1, affine=True, track_running_stats=True)\n",
              "    (6): ReLU(inplace=True)\n",
              "    (7): MaxPool2d(kernel_size=2, stride=2, padding=0, dilation=1, ceil_mode=False)\n",
              "  )\n",
              "  (linear_layers): Sequential(\n",
              "    (0): Linear(in_features=196, out_features=10, bias=True)\n",
              "  )\n",
              ")"
            ]
          },
          "metadata": {
            "tags": []
          },
          "execution_count": 9
        }
      ]
    },
    {
      "cell_type": "code",
      "metadata": {
        "id": "DlUjxSokttcq"
      },
      "source": [
        "#Adan optimizer\r\n",
        "optimizer= Adam(model.parameters(), lr=0.07)\r\n",
        "\r\n",
        "#loss function\r\n",
        "criterion = CrossEntropyLoss()"
      ],
      "execution_count": null,
      "outputs": []
    },
    {
      "cell_type": "code",
      "metadata": {
        "id": "Sy2hOn6htthe"
      },
      "source": [
        "#training the model\r\n",
        "def train(epoch):\r\n",
        "    #set the model to train\r\n",
        "    model.train()\r\n",
        "    tr_loss=0\r\n",
        "    \r\n",
        "    #getting the training datapoints\r\n",
        "    x_train,y_train=Variable(train_x),Variable(train_y)\r\n",
        "    \r\n",
        "    #if GPU is available, set to GPU format\r\n",
        "    if torch.cuda.is_available():\r\n",
        "        model.cuda()\r\n",
        "        x_train = x_train.cuda()\r\n",
        "        y_train = y_train.cuda()\r\n",
        "\r\n",
        "    #clearing the Gradients \r\n",
        "    optimizer.zero_grad()\r\n",
        "    \r\n",
        "    #converting the input into float\r\n",
        "    x_train=x_train.float()\r\n",
        "    \r\n",
        "    #predict the output\r\n",
        "    predicted_output=model(x_train)\r\n",
        "    \r\n",
        "    #compute the loss \r\n",
        "    loss=criterion(predicted_output, y_train)\r\n",
        "    \r\n",
        "    #appending the loss to view the preformance of model\r\n",
        "    train_losses.append(loss)\r\n",
        "    \r\n",
        "    #backpropagate\r\n",
        "    loss.backward()\r\n",
        "\r\n",
        "    #update the parameters\r\n",
        "    optimizer.step()\r\n",
        "    tr_loss = loss.item()\r\n",
        "\r\n",
        "    print(\"Epoch : \",epoch,\"loss : \",loss)\r\n"
      ],
      "execution_count": null,
      "outputs": []
    },
    {
      "cell_type": "code",
      "metadata": {
        "colab": {
          "base_uri": "https://localhost:8080/"
        },
        "id": "byvFaXvbttkl",
        "outputId": "71f8318f-1d6a-4e3d-beb9-10a4f7163727"
      },
      "source": [
        "#number of epoch\r\n",
        "no_epoch=25\r\n",
        "train_losses=[]\r\n",
        "for epoch in range(1,no_epoch+1):\r\n",
        "    train(epoch)"
      ],
      "execution_count": null,
      "outputs": [
        {
          "output_type": "stream",
          "text": [
            "Epoch :  1 loss :  tensor(2.6738, device='cuda:0', grad_fn=<NllLossBackward>)\n",
            "Epoch :  2 loss :  tensor(5.6253, device='cuda:0', grad_fn=<NllLossBackward>)\n",
            "Epoch :  3 loss :  tensor(4.9357, device='cuda:0', grad_fn=<NllLossBackward>)\n",
            "Epoch :  4 loss :  tensor(4.4842, device='cuda:0', grad_fn=<NllLossBackward>)\n",
            "Epoch :  5 loss :  tensor(2.6616, device='cuda:0', grad_fn=<NllLossBackward>)\n",
            "Epoch :  6 loss :  tensor(1.6468, device='cuda:0', grad_fn=<NllLossBackward>)\n",
            "Epoch :  7 loss :  tensor(1.5960, device='cuda:0', grad_fn=<NllLossBackward>)\n",
            "Epoch :  8 loss :  tensor(1.5266, device='cuda:0', grad_fn=<NllLossBackward>)\n",
            "Epoch :  9 loss :  tensor(1.5746, device='cuda:0', grad_fn=<NllLossBackward>)\n",
            "Epoch :  10 loss :  tensor(1.5542, device='cuda:0', grad_fn=<NllLossBackward>)\n",
            "Epoch :  11 loss :  tensor(1.5026, device='cuda:0', grad_fn=<NllLossBackward>)\n",
            "Epoch :  12 loss :  tensor(1.4602, device='cuda:0', grad_fn=<NllLossBackward>)\n",
            "Epoch :  13 loss :  tensor(1.4115, device='cuda:0', grad_fn=<NllLossBackward>)\n",
            "Epoch :  14 loss :  tensor(1.3375, device='cuda:0', grad_fn=<NllLossBackward>)\n",
            "Epoch :  15 loss :  tensor(1.2380, device='cuda:0', grad_fn=<NllLossBackward>)\n",
            "Epoch :  16 loss :  tensor(1.1129, device='cuda:0', grad_fn=<NllLossBackward>)\n",
            "Epoch :  17 loss :  tensor(0.9741, device='cuda:0', grad_fn=<NllLossBackward>)\n",
            "Epoch :  18 loss :  tensor(0.8543, device='cuda:0', grad_fn=<NllLossBackward>)\n",
            "Epoch :  19 loss :  tensor(0.7735, device='cuda:0', grad_fn=<NllLossBackward>)\n",
            "Epoch :  20 loss :  tensor(0.7183, device='cuda:0', grad_fn=<NllLossBackward>)\n",
            "Epoch :  21 loss :  tensor(0.6699, device='cuda:0', grad_fn=<NllLossBackward>)\n",
            "Epoch :  22 loss :  tensor(0.6252, device='cuda:0', grad_fn=<NllLossBackward>)\n",
            "Epoch :  23 loss :  tensor(0.5961, device='cuda:0', grad_fn=<NllLossBackward>)\n",
            "Epoch :  24 loss :  tensor(0.5889, device='cuda:0', grad_fn=<NllLossBackward>)\n",
            "Epoch :  25 loss :  tensor(0.5857, device='cuda:0', grad_fn=<NllLossBackward>)\n"
          ],
          "name": "stdout"
        }
      ]
    },
    {
      "cell_type": "code",
      "metadata": {
        "colab": {
          "base_uri": "https://localhost:8080/",
          "height": 265
        },
        "id": "a9xkxYzz3BMo",
        "outputId": "63275450-b84c-4912-b1d3-2a4a84aefd37"
      },
      "source": [
        "#plotting the loss, loss is decreasing for each epoch\r\n",
        "plt.plot(train_losses, label='Training loss')\r\n",
        "plt.show()"
      ],
      "execution_count": null,
      "outputs": [
        {
          "output_type": "display_data",
          "data": {
            "image/png": "[encoded data removed]",
            "text/plain": [
              "<Figure size 432x288 with 1 Axes>"
            ]
          },
          "metadata": {
            "tags": [],
            "needs_background": "light"
          }
        }
      ]
    },
    {
      "cell_type": "code",
      "metadata": {
        "id": "yUf0N1QdBu_-"
      },
      "source": [
        ""
      ],
      "execution_count": null,
      "outputs": []
    },
    {
      "cell_type": "markdown",
      "metadata": {
        "id": "92k7VTlFBv7x"
      },
      "source": [
        "**Evaluation - Training accuracy**"
      ]
    },
    {
      "cell_type": "code",
      "metadata": {
        "id": "2EHFt7jbttnb"
      },
      "source": [
        "#setting not to calculate gradients\r\n",
        "with torch.no_grad():\r\n",
        "    train_x=train_x.float()\r\n",
        "    #if GPU is available\r\n",
        "    if torch.cuda.is_available():\r\n",
        "        #predicting the output for traning datapoints\r\n",
        "        train_x=train_x.cuda()\r\n",
        "    output=model(train_x)\r\n"
      ],
      "execution_count": null,
      "outputs": []
    },
    {
      "cell_type": "code",
      "metadata": {
        "id": "nViGSXmlttsi"
      },
      "source": [
        "#applying the softmax (0 to 1)\r\n",
        "softmax = torch.exp(output).cpu()\r\n",
        "prob = list(softmax.numpy())\r\n",
        "\r\n",
        "#finding the max with respect to x-axis\r\n",
        "predictions = np.argmax(prob, axis=1)\r\n"
      ],
      "execution_count": null,
      "outputs": []
    },
    {
      "cell_type": "code",
      "metadata": {
        "colab": {
          "base_uri": "https://localhost:8080/"
        },
        "id": "678tQz644bPA",
        "outputId": "d83d89dc-2854-450c-c6fa-c4d0f4de6b47"
      },
      "source": [
        "predictions"
      ],
      "execution_count": null,
      "outputs": [
        {
          "output_type": "execute_result",
          "data": {
            "text/plain": [
              "array([5, 0, 4, ..., 5, 6, 8])"
            ]
          },
          "metadata": {
            "tags": []
          },
          "execution_count": 27
        }
      ]
    },
    {
      "cell_type": "code",
      "metadata": {
        "colab": {
          "base_uri": "https://localhost:8080/"
        },
        "id": "XhpJ4alF4bSW",
        "outputId": "b755974c-da4a-4dbc-f33b-53019e982b8e"
      },
      "source": [
        "#training accuracy\r\n",
        "from sklearn.metrics import accuracy_score\r\n",
        "accuracy_score(train_y, predictions)\r\n"
      ],
      "execution_count": null,
      "outputs": [
        {
          "output_type": "execute_result",
          "data": {
            "text/plain": [
              "0.8271166666666666"
            ]
          },
          "metadata": {
            "tags": []
          },
          "execution_count": 28
        }
      ]
    },
    {
      "cell_type": "code",
      "metadata": {
        "id": "WEAh3Ahb443z"
      },
      "source": [
        ""
      ],
      "execution_count": null,
      "outputs": []
    },
    {
      "cell_type": "markdown",
      "metadata": {
        "id": "SE9yVjl6Cywk"
      },
      "source": [
        "**Evaluation - Training accuracy**"
      ]
    },
    {
      "cell_type": "code",
      "metadata": {
        "id": "tXhGlyDn446i"
      },
      "source": [
        "#converting the testing datapoints into required format\r\n",
        "test_x=testX.reshape(10000,1,28,28)\r\n",
        "test_x=torch.from_numpy(test_x)\r\n",
        "\r\n",
        "test_y=testY.astype(int)\r\n",
        "text_y=torch.from_numpy(test_y)"
      ],
      "execution_count": null,
      "outputs": []
    },
    {
      "cell_type": "code",
      "metadata": {
        "id": "rK-9PRKF449J"
      },
      "source": [
        "#setting not to calculate gradients\r\n",
        "with torch.no_grad():\r\n",
        "    #if GPU is available\r\n",
        "    if torch.cuda.is_available():\r\n",
        "        test_x=test_x.cuda()\r\n",
        "    test_x=test_x.float()\r\n",
        "    #predicting the output for testing datapoints\r\n",
        "    test_output=model(test_x)\r\n"
      ],
      "execution_count": null,
      "outputs": []
    },
    {
      "cell_type": "code",
      "metadata": {
        "id": "0Pnf4I7LDJXj"
      },
      "source": [
        "#applying the softmax (0 to 1)\r\n",
        "softmax = torch.exp(test_output).cpu()\r\n",
        "prob = list(softmax.numpy())\r\n",
        "\r\n",
        "#finding the max with respect to x-axis\r\n",
        "test_prediction = np.argmax(prob, axis=1)\r\n"
      ],
      "execution_count": null,
      "outputs": []
    },
    {
      "cell_type": "code",
      "metadata": {
        "colab": {
          "base_uri": "https://localhost:8080/"
        },
        "id": "94cKnkyK45BV",
        "outputId": "7e4d08f3-7c7f-4843-edf6-abad5ea73a80"
      },
      "source": [
        "#testing accuracy\r\n",
        "accuracy_score(test_y, test_prediction)\r\n"
      ],
      "execution_count": null,
      "outputs": [
        {
          "output_type": "execute_result",
          "data": {
            "text/plain": [
              "0.8347"
            ]
          },
          "metadata": {
            "tags": []
          },
          "execution_count": 34
        }
      ]
    },
    {
      "cell_type": "code",
      "metadata": {
        "id": "QyP-2DvkDSKC"
      },
      "source": [
        ""
      ],
      "execution_count": null,
      "outputs": []
    }
  ]
}